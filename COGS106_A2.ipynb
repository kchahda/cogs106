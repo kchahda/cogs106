{
  "nbformat": 4,
  "nbformat_minor": 0,
  "metadata": {
    "colab": {
      "provenance": [],
      "include_colab_link": true
    },
    "kernelspec": {
      "name": "python3",
      "display_name": "Python 3"
    },
    "language_info": {
      "name": "python"
    }
  },
  "cells": [
    {
      "cell_type": "markdown",
      "metadata": {
        "id": "view-in-github",
        "colab_type": "text"
      },
      "source": [
        "<a href=\"https://colab.research.google.com/github/kchahda/cogs106/blob/main/COGS106_A2.ipynb\" target=\"_parent\"><img src=\"https://colab.research.google.com/assets/colab-badge.svg\" alt=\"Open In Colab\"/></a>"
      ]
    },
    {
      "cell_type": "code",
      "execution_count": null,
      "metadata": {
        "id": "apcjC_vvhU4n"
      },
      "outputs": [],
      "source": [
        "import numpy\n",
        "from scipy.special import ndtri\n",
        "\n",
        "class SignalDetection:\n",
        "  def __init__(self,hit,miss,fa,cr):\n",
        "    # Define variables\n",
        "    self.hr = (hit / (hit + miss))\n",
        "    self.far = (fa / (fa + cr))\n",
        "  \n",
        "  def d_prime(self):\n",
        "    # Calculates the d-Prime value\n",
        "    return (ndtri(self.hr) - ndtri(self.far))\n",
        "  \n",
        "  def criterion(self):\n",
        "    # Calculates the Criterion value\n",
        "    return (-0.5 * (ndtri(self.hr) + ndtri(self.far)))"
      ]
    },
    {
      "cell_type": "code",
      "source": [
        "hit = 60\n",
        "miss = 15\n",
        "fa = 5\n",
        "cr = 20\n",
        "SD = SignalDetection(hit,miss,fa,cr)\n",
        "\n",
        "print(\"d'=\",SD.d_prime(),\"\\nCriterion =\",SD.criterion())"
      ],
      "metadata": {
        "colab": {
          "base_uri": "https://localhost:8080/"
        },
        "id": "VYfgPCzVmotj",
        "outputId": "61986e6e-7f64-4114-f84b-8c3fae948f03"
      },
      "execution_count": null,
      "outputs": [
        {
          "output_type": "stream",
          "name": "stdout",
          "text": [
            "d'= 1.6832424671458286 \n",
            "Criterion = -5.551115123125783e-17\n"
          ]
        }
      ]
    }
  ]
}